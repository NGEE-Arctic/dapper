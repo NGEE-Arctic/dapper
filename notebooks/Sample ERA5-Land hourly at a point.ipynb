{
 "cells": [
  {
   "cell_type": "markdown",
   "id": "8be352fc-1d78-4e9a-a476-c4ce9957ef7a",
   "metadata": {},
   "source": [
    "## Downloading ERA5-Land hourly data at a single location (coordinate) using GEE\n",
    "This notebook demonstrates how to sample raw ERA5-Land data from Google Earth Engine. Eventual improvments will tidy this data up for use in ELM. \n",
    "There is a step involved here where you must wait for GEE's computers to crank through the request, then you'll need to move a file from your Google Drive to your local machine. There are no great ways to automate this, sorry."
   ]
  },
  {
   "cell_type": "code",
   "execution_count": 1,
   "id": "0fca8555-997f-4c28-a070-e4b55a8a167e",
   "metadata": {},
   "outputs": [],
   "source": [
    "import ee\n",
    "from ngeegee import e5l_utils as eu\n",
    "\n",
    "# Make sure to Initialize with the correct project name (do not use mine--it won't work for you)\n",
    "ee.Initialize(project='ee-jonschwenk')\n",
    "\n",
    "# Define a point we want to sample\n",
    "lat, lon = 68.62758, -149.59429"
   ]
  },
  {
   "cell_type": "markdown",
   "id": "5111f7d8-aed5-480d-bbb7-bae5c9426daa",
   "metadata": {},
   "source": [
    "### Set up our request via a dictionary of parameters"
   ]
  },
  {
   "cell_type": "code",
   "execution_count": 2,
   "id": "45ab4513-0a3b-4527-b8d9-51feda7ba77d",
   "metadata": {},
   "outputs": [
    {
     "data": {
      "text/html": [
       "\n",
       "            <style>\n",
       "                .geemap-dark {\n",
       "                    --jp-widgets-color: white;\n",
       "                    --jp-widgets-label-color: white;\n",
       "                    --jp-ui-font-color1: white;\n",
       "                    --jp-layout-color2: #454545;\n",
       "                    background-color: #383838;\n",
       "                }\n",
       "\n",
       "                .geemap-dark .jupyter-button {\n",
       "                    --jp-layout-color3: #383838;\n",
       "                }\n",
       "\n",
       "                .geemap-colab {\n",
       "                    background-color: var(--colab-primary-surface-color, white);\n",
       "                }\n",
       "\n",
       "                .geemap-colab .jupyter-button {\n",
       "                    --jp-layout-color3: var(--colab-primary-surface-color, white);\n",
       "                }\n",
       "            </style>\n",
       "            "
      ],
      "text/plain": [
       "<IPython.core.display.HTML object>"
      ]
     },
     "metadata": {},
     "output_type": "display_data"
    },
    {
     "data": {
      "text/plain": [
       "'Export task started: ngee_test_era5_timeseries.csv (Check Google Drive or Task Status in the Javascript Editor)'"
      ]
     },
     "execution_count": 2,
     "metadata": {},
     "output_type": "execute_result"
    }
   ],
   "source": [
    "params = {\n",
    "    \"gee_ic\": \"ECMWF/ERA5_LAND/HOURLY\", # don't change this\n",
    "    \"start_date\": \"1950-01-01\", \n",
    "    \"end_date\": \"2100-01-05\", # If your end date is longer than what's available, it will just truncate at the last available date. Here I've used the year 2100 to ensure we download all data.\n",
    "    \"gee_bands\": [\"temperature_2m\", \n",
    "                  \"total_precipitation\",\n",
    "                  'dewpoint_temperature_2m',\n",
    "                  'snow_albedo'], # select the bands (variables) you want to sample. Must exactly match the band names of the ERA5_LAND/HOURLY imageCollection\n",
    "    \"point\": (lon, lat), \n",
    "    \"gdrive_folder\": \"NGEE_test\",  # Google Drive folder name - will be created if it doesn't exist\n",
    "    \"filename\": \"ngee_test_era5_timeseries.csv\"  # Output CSV file name\n",
    "}\n",
    "\n",
    "# Send the job to GEE!\n",
    "eu.sample_e5lh_at_point(params)"
   ]
  },
  {
   "cell_type": "markdown",
   "id": "d2bf586e-6ab5-4c75-a383-457b3ef4ce09",
   "metadata": {
    "tags": []
   },
   "source": [
    "### Now we wait.\n",
    "You've sent a Task to Google Earth Engine. You can check on its state using the [GEE Javascript code editor](http://code.earthengine.google.com) by clicking the `Tasks` tab in the upper-right panel.\n",
    "Eventually it will finish, and your csv will show up where you told GEE to put it: `gdrive_folder/filename`.\n",
    "It should not take more than a few hours to fetch all variables (37 I think) for all timesteps. In my testing here, it took 37 minutes to fetch two variables from 2000-2025.\n",
    "Once that file is created in your GDrive, download it to your local machine and hammer away!"
   ]
  },
  {
   "cell_type": "markdown",
   "id": "e07ce31c",
   "metadata": {},
   "source": []
  }
 ],
 "metadata": {
  "kernelspec": {
   "display_name": "ngeegee",
   "language": "python",
   "name": "python3"
  },
  "language_info": {
   "codemirror_mode": {
    "name": "ipython",
    "version": 3
   },
   "file_extension": ".py",
   "mimetype": "text/x-python",
   "name": "python",
   "nbconvert_exporter": "python",
   "pygments_lexer": "ipython3",
   "version": "3.12.9"
  }
 },
 "nbformat": 4,
 "nbformat_minor": 5
}
