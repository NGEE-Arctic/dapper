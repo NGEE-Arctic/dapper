{
 "cells": [
  {
   "cell_type": "markdown",
   "id": "8be352fc-1d78-4e9a-a476-c4ce9957ef7a",
   "metadata": {},
   "source": [
    "## Downloading ERA5-Land hourly data at a single location (coordinate) using GEE\n",
    "This notebook demonstrates how to sample raw ERA5-Land data from Google Earth Engine. Eventual improvments will tidy this data up for use in ELM. \n",
    "There is a step involved here where you must wait for GEE's computers to crank through the request, then you'll need to move a file from your Google Drive to your local machine. There are no great ways to automate this, sorry."
   ]
  },
  {
   "cell_type": "code",
   "execution_count": 4,
   "id": "0fca8555-997f-4c28-a070-e4b55a8a167e",
   "metadata": {},
   "outputs": [
    {
     "data": {
      "text/html": [
       "\n",
       "            <style>\n",
       "                .geemap-dark {\n",
       "                    --jp-widgets-color: white;\n",
       "                    --jp-widgets-label-color: white;\n",
       "                    --jp-ui-font-color1: white;\n",
       "                    --jp-layout-color2: #454545;\n",
       "                    background-color: #383838;\n",
       "                }\n",
       "\n",
       "                .geemap-dark .jupyter-button {\n",
       "                    --jp-layout-color3: #383838;\n",
       "                }\n",
       "\n",
       "                .geemap-colab {\n",
       "                    background-color: var(--colab-primary-surface-color, white);\n",
       "                }\n",
       "\n",
       "                .geemap-colab .jupyter-button {\n",
       "                    --jp-layout-color3: var(--colab-primary-surface-color, white);\n",
       "                }\n",
       "            </style>\n",
       "            "
      ],
      "text/plain": [
       "<IPython.core.display.HTML object>"
      ]
     },
     "metadata": {},
     "output_type": "display_data"
    }
   ],
   "source": [
    "import ee\n",
    "import pandas as pd\n",
    "from ngeegee import e5l_utils as eu\n",
    "from pathlib import Path\n",
    "\n",
    "# Make sure to Initialize with the correct project name (do not use mine--it won't work for you)\n",
    "ee.Initialize(project='ee-jonschwenk')\n",
    "\n",
    "# Define a point we want to sample\n",
    "lat, lon = 68.62758, -149.59429"
   ]
  },
  {
   "cell_type": "markdown",
   "id": "5111f7d8-aed5-480d-bbb7-bae5c9426daa",
   "metadata": {},
   "source": [
    "### Set up our request via a dictionary of parameters\n",
    "The only tricky thing here is specifying the bands (variables) you want. You have two options: 1) just set `gee_bands` to `all` to fetch all 68 bands, or provide a `list` of bands. If you aren't sure which bands are available, you can run `eu.e5lh_bands()['band_name']`. Below, I'll select just a handful for demonstration."
   ]
  },
  {
   "cell_type": "code",
   "execution_count": null,
   "id": "45ab4513-0a3b-4527-b8d9-51feda7ba77d",
   "metadata": {},
   "outputs": [
    {
     "data": {
      "text/html": [
       "\n",
       "            <style>\n",
       "                .geemap-dark {\n",
       "                    --jp-widgets-color: white;\n",
       "                    --jp-widgets-label-color: white;\n",
       "                    --jp-ui-font-color1: white;\n",
       "                    --jp-layout-color2: #454545;\n",
       "                    background-color: #383838;\n",
       "                }\n",
       "\n",
       "                .geemap-dark .jupyter-button {\n",
       "                    --jp-layout-color3: #383838;\n",
       "                }\n",
       "\n",
       "                .geemap-colab {\n",
       "                    background-color: var(--colab-primary-surface-color, white);\n",
       "                }\n",
       "\n",
       "                .geemap-colab .jupyter-button {\n",
       "                    --jp-layout-color3: var(--colab-primary-surface-color, white);\n",
       "                }\n",
       "            </style>\n",
       "            "
      ],
      "text/plain": [
       "<IPython.core.display.HTML object>"
      ]
     },
     "metadata": {},
     "output_type": "display_data"
    },
    {
     "data": {
      "text/plain": [
       "'Export task started: ngee_test_era5_timeseries_short (Check Google Drive or Task Status in the Javascript Editor for completion.)'"
      ]
     },
     "execution_count": 2,
     "metadata": {},
     "output_type": "execute_result"
    }
   ],
   "source": [
    "params = {\n",
    "    \"start_date\": \"2000-01-01\", \n",
    "    \"end_date\": \"2100-01-01\", # If your end date is longer than what's available, it will just truncate at the last available date. Here I've used the year 2100 to ensure we download all data.\n",
    "    \"gee_bands\": [\"temperature_2m\", \n",
    "                  \"total_precipitation\",\n",
    "                  'dewpoint_temperature_2m',\n",
    "                  'snow_albedo'], # select the bands (variables) you want to sample. Must exactly match the band names of the ERA5_LAND/HOURLY imageCollection. You can also specify 'all' to get all bands/variables.\n",
    "    \"point\": (lon, lat), \n",
    "    \"gdrive_folder\": \"NGEE_test\",  # Google Drive folder name - will be created if it doesn't exist\n",
    "    \"filename\": \"ngee_test_era5_timeseries\"  # Output CSV file name\n",
    "}\n",
    "\n",
    "# Send the job to GEE!\n",
    "eu.sample_e5lh_at_point(params)"
   ]
  },
  {
   "cell_type": "markdown",
   "id": "d2bf586e-6ab5-4c75-a383-457b3ef4ce09",
   "metadata": {
    "tags": []
   },
   "source": [
    "### Now we wait.\n",
    "You've sent a Task to Google Earth Engine. You can check on its state using the [GEE Javascript code editor](http://code.earthengine.google.com) by clicking the `Tasks` tab in the upper-right panel.\n",
    "Eventually it will finish, and your csv will show up where you told GEE to put it: `gdrive_folder/filename`.\n",
    "It should not take more than a few hours to fetch all variables (68 total, I think) for all timesteps. In my testing here, it took 2 hours to fetch two variables from 1950-2025. It likely won't take much longer to fetch more variables, as the time suck is that GEE has to load each hourly ERA5-Land image.\n",
    "Once that file is created in your GDrive, download it to your local machine and hammer away!"
   ]
  },
  {
   "cell_type": "markdown",
   "id": "e07ce31c",
   "metadata": {},
   "source": []
  },
  {
   "cell_type": "markdown",
   "id": "f80c64e9",
   "metadata": {},
   "source": [
    "## Some examination of the data\n",
    "Two hours later, a `.csv` appeared in my Google Drive foler (`NGEE_test\\ngee_test_era5_timeseries`). I downloaded it and have included it in this repo just so we can inspect it a bit."
   ]
  },
  {
   "cell_type": "code",
   "execution_count": 7,
   "id": "35d55b94",
   "metadata": {},
   "outputs": [
    {
     "data": {
      "text/html": [
       "\n",
       "            <style>\n",
       "                .geemap-dark {\n",
       "                    --jp-widgets-color: white;\n",
       "                    --jp-widgets-label-color: white;\n",
       "                    --jp-ui-font-color1: white;\n",
       "                    --jp-layout-color2: #454545;\n",
       "                    background-color: #383838;\n",
       "                }\n",
       "\n",
       "                .geemap-dark .jupyter-button {\n",
       "                    --jp-layout-color3: #383838;\n",
       "                }\n",
       "\n",
       "                .geemap-colab {\n",
       "                    background-color: var(--colab-primary-surface-color, white);\n",
       "                }\n",
       "\n",
       "                .geemap-colab .jupyter-button {\n",
       "                    --jp-layout-color3: var(--colab-primary-surface-color, white);\n",
       "                }\n",
       "            </style>\n",
       "            "
      ],
      "text/plain": [
       "<IPython.core.display.HTML object>"
      ]
     },
     "metadata": {},
     "output_type": "display_data"
    },
    {
     "name": "stdout",
     "output_type": "stream",
     "text": [
      "Index(['system:index', 'date', 'temperature_2m', 'total_precipitation',\n",
      "       '.geo'],\n",
      "      dtype='object')\n"
     ]
    }
   ],
   "source": [
    "df = pd.read_csv(eu._DATA_DIR.parent / 'notebooks' / 'notebook_data' / 'ngee_test_era5_timeseries.csv')\n",
    "print(df.columns)"
   ]
  },
  {
   "cell_type": "markdown",
   "id": "e5de77e8",
   "metadata": {},
   "source": [
    "There are a couple columns here we don't care about, namely `system:index` and `.geo`. We see that there is a `date` column, and then a column for each variable we requested.\n",
    "Let's just make sure the dates cover the range we expected, then call it a day."
   ]
  },
  {
   "cell_type": "code",
   "execution_count": 9,
   "id": "445ed789",
   "metadata": {},
   "outputs": [
    {
     "data": {
      "text/html": [
       "\n",
       "            <style>\n",
       "                .geemap-dark {\n",
       "                    --jp-widgets-color: white;\n",
       "                    --jp-widgets-label-color: white;\n",
       "                    --jp-ui-font-color1: white;\n",
       "                    --jp-layout-color2: #454545;\n",
       "                    background-color: #383838;\n",
       "                }\n",
       "\n",
       "                .geemap-dark .jupyter-button {\n",
       "                    --jp-layout-color3: #383838;\n",
       "                }\n",
       "\n",
       "                .geemap-colab {\n",
       "                    background-color: var(--colab-primary-surface-color, white);\n",
       "                }\n",
       "\n",
       "                .geemap-colab .jupyter-button {\n",
       "                    --jp-layout-color3: var(--colab-primary-surface-color, white);\n",
       "                }\n",
       "            </style>\n",
       "            "
      ],
      "text/plain": [
       "<IPython.core.display.HTML object>"
      ]
     },
     "metadata": {},
     "output_type": "display_data"
    },
    {
     "name": "stdout",
     "output_type": "stream",
     "text": [
      "2000-01-01 00:00\n",
      "2023-01-04 23:00\n"
     ]
    }
   ],
   "source": [
    "print(min(df['date']))\n",
    "print(max(df['date']))"
   ]
  },
  {
   "cell_type": "markdown",
   "id": "cc730c1d",
   "metadata": {},
   "source": [
    "It looks like the latest available date was Jan 04, 2023. I think I've gotten more recent data from ERA5-Land hourly through the cdsapi (directly from the source), so I'd want to double-check this. But everything looks good overall."
   ]
  },
  {
   "cell_type": "markdown",
   "id": "a5740705",
   "metadata": {},
   "source": []
  },
  {
   "cell_type": "code",
   "execution_count": null,
   "id": "580180da",
   "metadata": {},
   "outputs": [],
   "source": []
  }
 ],
 "metadata": {
  "kernelspec": {
   "display_name": "ngeegee",
   "language": "python",
   "name": "python3"
  },
  "language_info": {
   "codemirror_mode": {
    "name": "ipython",
    "version": 3
   },
   "file_extension": ".py",
   "mimetype": "text/x-python",
   "name": "python",
   "nbconvert_exporter": "python",
   "pygments_lexer": "ipython3",
   "version": "3.12.9"
  }
 },
 "nbformat": 4,
 "nbformat_minor": 5
}
