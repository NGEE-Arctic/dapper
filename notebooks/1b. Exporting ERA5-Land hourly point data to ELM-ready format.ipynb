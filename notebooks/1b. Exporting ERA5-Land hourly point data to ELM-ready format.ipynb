{
 "cells": [
  {
   "cell_type": "markdown",
   "metadata": {},
   "source": [
    "## 1b. Exporting ERA5-Land Hourly met point data to ELM-ready format\n",
    "This notebook will use the results of notebook `1a`, so make sure you understand that one before running this one. Essentially, we're going to convert from \"raw\" ERA5 met data to netCDF files that ELM expects. \n",
    "\n",
    "I have made this code pretty simple for the user, but there's quite a bit happening under the hood. I'll describe some of this along the way."
   ]
  },
  {
   "cell_type": "code",
   "execution_count": 1,
   "metadata": {},
   "outputs": [
    {
     "name": "stdout",
     "output_type": "stream",
     "text": [
      "           pid              date  temperature_2m  u_component_of_wind_10m  \\\n",
      "0       abisko  2022-01-01 00:00      253.960236                 1.675461   \n",
      "1          tvc  2022-01-01 00:00      238.081329                 1.542160   \n",
      "2       toolik  2022-01-01 00:00      235.602814                 0.689621   \n",
      "3        chars  2022-01-01 00:00      247.622345                -0.047684   \n",
      "4          qhi  2022-01-01 00:00      242.927032                 5.590012   \n",
      "...        ...               ...             ...                      ...   \n",
      "192523  toolik  2025-02-19 23:00      247.975540                -0.436813   \n",
      "192524   chars  2025-02-19 23:00      252.844681                 3.637405   \n",
      "192525     qhi  2025-02-19 23:00      250.440384                 3.153030   \n",
      "192526     sam  2025-02-19 23:00      243.457962                 0.308304   \n",
      "192527     sjb  2025-02-19 23:00      265.143509                -0.293259   \n",
      "\n",
      "        v_component_of_wind_10m  surface_solar_radiation_downwards_hourly  \\\n",
      "0                      0.514830                                       0.0   \n",
      "1                      0.033873                                       0.0   \n",
      "2                      0.770201                                       0.0   \n",
      "3                     -4.426577                                       0.0   \n",
      "4                     -2.836245                                       0.0   \n",
      "...                         ...                                       ...   \n",
      "192523                -0.624512                                  456608.0   \n",
      "192524                 3.895020                                  104686.0   \n",
      "192525                -3.403809                                  403762.0   \n",
      "192526                 2.838379                                       0.0   \n",
      "192527                 0.498535                                       0.0   \n",
      "\n",
      "        surface_thermal_radiation_downwards_hourly  \\\n",
      "0                                         690011.0   \n",
      "1                                         591719.0   \n",
      "2                                         455443.0   \n",
      "3                                         721829.0   \n",
      "4                                         618611.0   \n",
      "...                                            ...   \n",
      "192523                                    665310.0   \n",
      "192524                                    640020.0   \n",
      "192525                                    623674.0   \n",
      "192526                                    683558.0   \n",
      "192527                                    786776.0   \n",
      "\n",
      "        total_precipitation_hourly  surface_pressure  dewpoint_temperature_2m  \n",
      "0                         0.000004      93353.171875               251.595169  \n",
      "1                         0.000022     101125.171875               234.843216  \n",
      "2                         0.000007      91162.171875               232.044388  \n",
      "3                         0.000026     101342.171875               244.259232  \n",
      "4                         0.000023     101910.171875               239.876419  \n",
      "...                            ...               ...                      ...  \n",
      "192523                    0.000003      91212.390625               245.202927  \n",
      "192524                    0.000000     101264.390625               249.075974  \n",
      "192525                    0.000005     102020.390625               247.363083  \n",
      "192526                    0.000003     103097.390625               240.476364  \n",
      "192527                    0.000035      98737.390625               261.685349  \n",
      "\n",
      "[192528 rows x 10 columns]\n"
     ]
    }
   ],
   "source": [
    "import pandas as pd\n",
    "from pathlib import Path\n",
    "import ngeegee.e5l_utils as eu\n",
    "from ngeegee.utils import _ROOT_DIR\n",
    "\n",
    "# Build our points dictionary (same as in 1a notebook)\n",
    "points = {'abisko' : (68.35, 18.78333),\n",
    "        'tvc' : (68.742, -133.499),\n",
    "        'toolik' : (68.62758, -149.59429),\n",
    "        'chars' :  (69.1300, -105.0415),\n",
    "        'qhi' : (69.5795, -139.0762),\n",
    "        'sam' : (72.22, 126.3),\n",
    "        'sjb' : (78.92163, 11.83109)}\n",
    "\n",
    "# Load the raw ERA5-Land hourly data we exported in notebook 1a.\n",
    "path_e5lh = _ROOT_DIR / 'notebooks' / 'notebook_data' / 'ngee_test_era5_timeseries.csv'\n",
    "df = pd.read_csv(path_e5lh)\n",
    "print(df)"
   ]
  },
  {
   "cell_type": "markdown",
   "metadata": {},
   "source": [
    "Ok, we've got our `df` loaded. Next, we're going to run a preprocessing script. It has a few main jobs:\n",
    "- converts units to ELM-expected ones\n",
    "- computes \"indirect\" variables (humidities) that are not directly available in ERA5-Land hourly but are needed by ELM\n",
    "- ensures no negative values for variables where that is physically impossible\n",
    "- does some date formatting and trimming. Preprocessing ensures that only full years of data are included (i.e. trims the dataframe to the earliest and latest years where all 365 days of data are available.)\n",
    "- removes leap years"
   ]
  },
  {
   "cell_type": "code",
   "execution_count": 2,
   "metadata": {},
   "outputs": [
    {
     "data": {
      "text/html": [
       "\n",
       "            <style>\n",
       "                .geemap-dark {\n",
       "                    --jp-widgets-color: white;\n",
       "                    --jp-widgets-label-color: white;\n",
       "                    --jp-ui-font-color1: white;\n",
       "                    --jp-layout-color2: #454545;\n",
       "                    background-color: #383838;\n",
       "                }\n",
       "\n",
       "                .geemap-dark .jupyter-button {\n",
       "                    --jp-layout-color3: #383838;\n",
       "                }\n",
       "\n",
       "                .geemap-colab {\n",
       "                    background-color: var(--colab-primary-surface-color, white);\n",
       "                }\n",
       "\n",
       "                .geemap-colab .jupyter-button {\n",
       "                    --jp-layout-color3: var(--colab-primary-surface-color, white);\n",
       "                }\n",
       "            </style>\n",
       "            "
      ],
      "text/plain": [
       "<IPython.core.display.HTML object>"
      ]
     },
     "metadata": {},
     "output_type": "display_data"
    },
    {
     "name": "stdout",
     "output_type": "stream",
     "text": [
      "0.91% of the values in surface_solar_radiation_downwards_hourly were negative and reset to 0.\n",
      "0.62% of the values in total_precipitation_hourly were negative and reset to 0.\n"
     ]
    }
   ],
   "source": [
    "df = eu.e5lh_to_elm_preprocess(df, remove_leap=True, verbose=True) # remove_leap is True by default, just showing it here FYI. verbose is False by default."
   ]
  },
  {
   "cell_type": "markdown",
   "metadata": {},
   "source": [
    "We see that there were some negative values in the radiation and precipitation bands. However, these percentages are fairly small and not worrisome.\n",
    "\n",
    "Let's continue. \n",
    "\n",
    "Next, we want to validate our ERA5-Land hourly data. What do I mean by \"validate\"?\n",
    "- ensure that the mean of the ERA5 data is approximately the same order of magnitude as a reference value (that I've precomputed for TVC, so isn't representative)\n",
    "- ensure that the ranges of the ERA5 data do not exceed realistic ones, nor those expected by ELM. (I pulled this info from the OLMT repo.)\n",
    "\n",
    "Honestly, you could probably skip this step. I developed it to make sure all the unit conversions etc. done in `e5lh_to_elm_preprocess` were correct. It's probably a good habit to leave this in, though, and it's pretty fast anyway."
   ]
  },
  {
   "cell_type": "code",
   "execution_count": 3,
   "metadata": {},
   "outputs": [
    {
     "data": {
      "text/html": [
       "\n",
       "            <style>\n",
       "                .geemap-dark {\n",
       "                    --jp-widgets-color: white;\n",
       "                    --jp-widgets-label-color: white;\n",
       "                    --jp-ui-font-color1: white;\n",
       "                    --jp-layout-color2: #454545;\n",
       "                    background-color: #383838;\n",
       "                }\n",
       "\n",
       "                .geemap-dark .jupyter-button {\n",
       "                    --jp-layout-color3: #383838;\n",
       "                }\n",
       "\n",
       "                .geemap-colab {\n",
       "                    background-color: var(--colab-primary-surface-color, white);\n",
       "                }\n",
       "\n",
       "                .geemap-colab .jupyter-button {\n",
       "                    --jp-layout-color3: var(--colab-primary-surface-color, white);\n",
       "                }\n",
       "            </style>\n",
       "            "
      ],
      "text/plain": [
       "<IPython.core.display.HTML object>"
      ]
     },
     "metadata": {},
     "output_type": "display_data"
    },
    {
     "name": "stdout",
     "output_type": "stream",
     "text": [
      "LOW CONCERN: 35% of the values in surface_pressure are beyond the range of the reference variable PSRF.\n",
      "LOW CONCERN: 11% of the values in wind_speed are beyond the range of the reference variable WIND.\n",
      "No reference statistics were available for the following variables, so their ranges were not validated: ['u_component_of_wind_10m', 'v_component_of_wind_10m', 'dewpoint_temperature_2m', 'wind_direction', 'relative_humidity']\n"
     ]
    }
   ],
   "source": [
    "eu.validate_met_vars(df)\n"
   ]
  },
  {
   "cell_type": "markdown",
   "metadata": {},
   "source": [
    "Ok, let's unpack this.\n",
    "\n",
    "> LOW CONCERN: 35% of the values in surface_pressure are beyond the range of the reference variable PSRF.\n",
    "\n",
    "This means that some of the values in `surface_pressure` are beyond the range that I computed based on TVC. Since it's only 35% and we didn't get any `HIGH CONCERN` printouts, I wouldn't worry about it. I really need a better dataset to compute these ranges from...\n",
    "We'll skip the other \"LOW CONCERN\" message as well.\n",
    "\n",
    "The last thing is \n",
    "> No reference statistics were available for the following variables, so their ranges were not validated: ['u_component_of_wind_10m', 'v_component_of_wind_10m', 'dewpoint_temperature_2m', 'wind_direction', 'relative_humidity']\n",
    "\n",
    "This simply means that I was unable to find reference statistics for these variables, so we can't actually check their ranges/order of magnitudes to ensure they're reasonable. Future work, I guess. You might want to look at them and make sure they're what you expect.\n",
    "\n",
    "Now we can move on to the last step--actually exporting the ELM-ready netCDFs. We'll need to specify a few things before running our export command."
   ]
  },
  {
   "cell_type": "code",
   "execution_count": 4,
   "metadata": {},
   "outputs": [
    {
     "data": {
      "text/html": [
       "\n",
       "            <style>\n",
       "                .geemap-dark {\n",
       "                    --jp-widgets-color: white;\n",
       "                    --jp-widgets-label-color: white;\n",
       "                    --jp-ui-font-color1: white;\n",
       "                    --jp-layout-color2: #454545;\n",
       "                    background-color: #383838;\n",
       "                }\n",
       "\n",
       "                .geemap-dark .jupyter-button {\n",
       "                    --jp-layout-color3: #383838;\n",
       "                }\n",
       "\n",
       "                .geemap-colab {\n",
       "                    background-color: var(--colab-primary-surface-color, white);\n",
       "                }\n",
       "\n",
       "                .geemap-colab .jupyter-button {\n",
       "                    --jp-layout-color3: var(--colab-primary-surface-color, white);\n",
       "                }\n",
       "            </style>\n",
       "            "
      ],
      "text/plain": [
       "<IPython.core.display.HTML object>"
      ]
     },
     "metadata": {},
     "output_type": "display_data"
    }
   ],
   "source": [
    "# Define a DataFrame from our points dictionary\n",
    "df_loc = pd.DataFrame({'pid' : points.keys(),\n",
    "                       'lat' : [points[p][0] for p in points],\n",
    "                       'lon' : [points[p][1] for p in points]}) # sorry, this is awkward to do but it will make things scalable as this repo develops\n",
    "dir_out = _ROOT_DIR / 'notebooks' / 'notebook_data' / 'elm_ready' # a folder will be created for each site; this directory specifies where the site folders go\n",
    "zval = 1  # I am still unsure why this is relevant, but the files need to specify a \"z values\" in meters, which is the height above ground at which the observations were made (I think). Using 1 as a placeholder for now.\n",
    "\n",
    "# Now we export!\n",
    "eu.export_for_elm(df, df_loc, dir_out, zval)"
   ]
  },
  {
   "cell_type": "markdown",
   "metadata": {},
   "source": [
    "...and that's it! You can see that a folder for each site has been created:\n",
    "\n",
    "![Site folders!](notebook_data/images/1b-site-folders.png)\n",
    "\n"
   ]
  },
  {
   "cell_type": "markdown",
   "metadata": {},
   "source": [
    "We can also look in a folder--here we'll choose abisko:\n",
    "\n",
    "![Abisko](notebook_data/images/1b-abisko-elm-variables.png)\n",
    "\n",
    "We see that there are individual netCDFs in each site corresponding to the variables needed by ELM*.\n",
    "\n",
    "*Note that currently `ngeegee` is only supporting variables needed when running in  `COUPLER_BYPASS` mode. There isn't a ton of documentation on this, but Dan Riscutto created this as a faster way to get your met data to ELM. The alternative is called `DATM_MODE`. \n",
    "\n",
    "If you want, you can open a netCDF and poke around:"
   ]
  },
  {
   "cell_type": "code",
   "execution_count": 8,
   "metadata": {},
   "outputs": [
    {
     "data": {
      "text/html": [
       "\n",
       "            <style>\n",
       "                .geemap-dark {\n",
       "                    --jp-widgets-color: white;\n",
       "                    --jp-widgets-label-color: white;\n",
       "                    --jp-ui-font-color1: white;\n",
       "                    --jp-layout-color2: #454545;\n",
       "                    background-color: #383838;\n",
       "                }\n",
       "\n",
       "                .geemap-dark .jupyter-button {\n",
       "                    --jp-layout-color3: #383838;\n",
       "                }\n",
       "\n",
       "                .geemap-colab {\n",
       "                    background-color: var(--colab-primary-surface-color, white);\n",
       "                }\n",
       "\n",
       "                .geemap-colab .jupyter-button {\n",
       "                    --jp-layout-color3: var(--colab-primary-surface-color, white);\n",
       "                }\n",
       "            </style>\n",
       "            "
      ],
      "text/plain": [
       "<IPython.core.display.HTML object>"
      ]
     },
     "metadata": {},
     "output_type": "display_data"
    },
    {
     "name": "stdout",
     "output_type": "stream",
     "text": [
      "<xarray.Dataset> Size: 420kB\n",
      "Dimensions:                                     (n: 1, DTIME: 26280)\n",
      "Coordinates:\n",
      "  * DTIME                                       (DTIME) datetime64[ns] 210kB ...\n",
      "Dimensions without coordinates: n\n",
      "Data variables:\n",
      "    LONGXY                                      (n) float32 4B ...\n",
      "    LATIXY                                      (n) float32 4B ...\n",
      "    surface_thermal_radiation_downwards_hourly  (n, DTIME) float64 210kB ...\n",
      "Attributes:\n",
      "    history:      Created using xarray\n",
      "    units:        W/m2\n",
      "    description:  incident longwave (FLDS)\n",
      "    calendar:     noleap\n",
      "    created_on:   2025-02-26\n"
     ]
    }
   ],
   "source": [
    "import os\n",
    "import xarray as xr\n",
    "\n",
    "path_file = _ROOT_DIR / 'notebooks' / 'notebook_data' / 'elm_ready' / 'abisko'\n",
    "files = os.listdir(path_file)\n",
    "f = path_file / files[0]\n",
    "\n",
    "ds = xr.open_dataset(f)\n",
    "print(ds)\n"
   ]
  },
  {
   "cell_type": "markdown",
   "metadata": {},
   "source": [
    "I haven't yet tested if these netCDFs are indeed 100% ELM compatible :) \n",
    "But please let me know if you find problems! (Open an issue in this repo.)"
   ]
  },
  {
   "cell_type": "markdown",
   "metadata": {},
   "source": []
  }
 ],
 "metadata": {
  "kernelspec": {
   "display_name": "ngeegee",
   "language": "python",
   "name": "python3"
  },
  "language_info": {
   "codemirror_mode": {
    "name": "ipython",
    "version": 3
   },
   "file_extension": ".py",
   "mimetype": "text/x-python",
   "name": "python",
   "nbconvert_exporter": "python",
   "pygments_lexer": "ipython3",
   "version": "3.12.9"
  }
 },
 "nbformat": 4,
 "nbformat_minor": 2
}
