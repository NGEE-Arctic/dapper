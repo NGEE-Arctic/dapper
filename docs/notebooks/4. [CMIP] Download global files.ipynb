{
 "cells": [
  {
   "cell_type": "code",
   "execution_count": 4,
   "id": "5712e557",
   "metadata": {},
   "outputs": [],
   "source": [
    "# You don't need to run this--it's just a workaround so images show up in these Github Jupyter notebooks\n",
    "from dapper.utils import display_image_gh_notebook\n",
    "from IPython.display import HTML"
   ]
  },
  {
   "cell_type": "markdown",
   "id": "8be352fc-1d78-4e9a-a476-c4ce9957ef7a",
   "metadata": {},
   "source": [
    "## 4. Downloading global CMIP data\n",
    "This notebook demonstrates how to download global CMIP6 files based on your criteria (variables, models, experiments, etc.). This notebook only walks through the process of downloading the raw CMIP6 files, not formatting them for ELM [funcationality does not yet exist].\n",
    "\n",
    "`dapper` uses a Pangeo-hosted CMIP repository, as we found that ESGF was kinda tricky because of the transience and availability of nodes. The Pangeo archive standardizes everything into a quickly-searchable and downloadable archive, but it is not a perfect mirror of all the available data across ESGF. If you're not finding what you need here, you may have to look in ESGF. Note that Google Earth Engine also hosts a downscaled set of CMIP6 models/variables, but unfortunately it includes only a limited set of variables--not everything needed for ELM runs, so we do not provide functionality for sampling it.\n",
    "\n",
    "Searching and downloading from the Pangeo archive does not require an account, so unlike ERA5-Land data that needs a Google Earth Engine account, this should work straight out of the box."
   ]
  },
  {
   "cell_type": "markdown",
   "id": "01f9cb80",
   "metadata": {},
   "source": [
    "Similar to working with ERA5-Land Hourly data, here we will specify a `params` dictionary and then send our request. Let's look at these `params` a little bit here.\n",
    "\n",
    "| Key          | Definition                                                                                                       | Examples                                                   |\n",
    "|--------------|------------------------------------------------------------------------------------------------------------------|------------------------------------------------------------|\n",
    "| `models`     | Climate models (or \"sources\") that produced the simulation data, each with unique physics, resolution, and configurations. | `CESM2`, `IPSL-CM6A-LR`, `CanESM5`, `MPI-ESM1-2-HR`        |\n",
    "| `variables`  | Climate variables simulated by the models, including atmospheric, oceanic, and land-surface data.                | `pr`, `tas`, `psl`, `ua`                                   |\n",
    "| `experiment` | Predefined scenarios that specify forcing conditions used in climate simulations.                                | `historical`, `ssp245`, `ssp370`, `ssp585`, `piControl`    |\n",
    "| `table`      | Frequency and domain of the model output data.                                                                   | `Amon`, `day`, `Omon`, `Lmon`                              |\n",
    "| `ensemble`   | Identifier specifying realization, initialization, physics, and forcing configurations for the model run.        | `r1i1p1f1`, `r2i1p1f1`, `r1i2p1f2`                         |\n",
    "\n",
    "You do not need to specify all of these. For example, if you're not sure which models you want, just leave it out and you'll be returned with all the models that match your other criteria. Let's try it out."
   ]
  },
  {
   "cell_type": "code",
   "execution_count": null,
   "id": "e53bb136",
   "metadata": {},
   "outputs": [],
   "source": [
    "from dapper.cmip import cmip_utils as cuts\n",
    "\n",
    "# We will leave models out for now\n",
    "params = {\n",
    "    'variables' : ['pr', 'tas'],\n",
    "    'experiment' : 'historical',\n",
    "    'table' : ['Amon'],\n",
    "    'ensemble' : 'r1i1p1f1',\n",
    "}\n",
    "\n",
    "available = cuts.find_available_data(params)\n"
   ]
  },
  {
   "cell_type": "markdown",
   "id": "26fa7f8d",
   "metadata": {},
   "source": []
  }
 ],
 "metadata": {
  "kernelspec": {
   "display_name": "dapper",
   "language": "python",
   "name": "python3"
  },
  "language_info": {
   "codemirror_mode": {
    "name": "ipython",
    "version": 3
   },
   "file_extension": ".py",
   "mimetype": "text/x-python",
   "name": "python",
   "nbconvert_exporter": "python",
   "pygments_lexer": "ipython3",
   "version": "3.12.9"
  }
 },
 "nbformat": 4,
 "nbformat_minor": 5
}
