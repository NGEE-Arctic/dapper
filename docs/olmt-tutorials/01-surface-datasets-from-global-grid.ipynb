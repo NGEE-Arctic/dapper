{
 "cells": [
  {
   "cell_type": "markdown",
   "id": "cfc00975-eba9-4745-996f-cada75b586f7",
   "metadata": {},
   "source": [
    "# 01 - Using OLMT to create surface files from the global E3SM datasets\n",
    "\n",
    "Rich Fiorella, March 11 2025\n",
    "\n",
    "An initial starting point for simulations at a new site should start with a simulation that provides a baseline or control run, using E3SM as it is out of the box, with none of the new NGEE Arctic features turned on, and from the existing land surface boundary condition datasets. \n",
    "\n",
    "OLMT has a tool that an create domain, surface, and landuse timeseries boundary condition files to generate these from the half-degree standard datasets used in E3SM v3.\n",
    "\n",
    "At this stage, this notebook only outlines perhaps the simplest way to extract these datasets. There are other ways to provide some simple site-specific data when creating the surface files that are hinted at but not used here currently.\n",
    "\n",
    "This script assumes that you are running somewhere you have access to the dcstorage drive/folder: neon_e3sm/inputdata. Throughout the remainder of this, ${INPUTDATA} assumes you are in this inputdata folder. This houses our local repository of E3SM input data. It is several terabytes, but is a subset of data available here: https://web.lcrc.anl.gov/public/e3sm/inputdata/\n",
    "\n",
    "You will need OLMT for this - I am in the process of moving my OLMT work to GitLab so we can better control what is released outside of LANL. I recommend starting from the GitLab version since that will be getting more frequent updates:\n",
    "\n",
    "`git clone -b rfiorella/era5 git@gitlab.lanl.gov:rfiorella/OLMT`\n",
    "\n",
    "If you already have a copy of OLMT you can change the remote URL by:\n",
    "`git remote -v`\n",
    "\n",
    "If it reads:\n",
    "`origin https://github.com/rfiorella/OLMT.git (fetch/push)`\n",
    "\n",
    "You can update to the new url with:\n",
    "`git remote set-url origin git@gitlab.lanl.gov:rfiorella/OLMT`\n"
   ]
  },
  {
   "cell_type": "markdown",
   "id": "eb8e6dfc-89f0-4d5f-a8be-e1584cccba8a",
   "metadata": {},
   "source": [
    "## Step 1: Define a site in a site group in the input data repository\n",
    "\n",
    "If you are wanting to add a site that has not previously been defined, you need to update the text files in the `${INPUTDATA}/lnd/clm2/PTCLM` folder."
   ]
  },
  {
   "cell_type": "code",
   "execution_count": 2,
   "id": "7fcb1e2a-47e6-4598-b843-418b353eafb6",
   "metadata": {},
   "outputs": [
    {
     "name": "stdout",
     "output_type": "stream",
     "text": [
      "site_code,name,state,lon,lat,elev,startyear,endyear,alignyear,timezone\n",
      "AK-BEO,\"Utgiagvik\",AK,-156.604771,71.280008,7,2000,2015,1851,-8\n",
      "AK-BEOG,\"BEOGrid\",AK,-156.75,71.25,7,2000,2015,1851,-8\n",
      "AK-K64,\"KM64\",AK,-164.83355,65.162310,7,2000,2015,1851,-8\n",
      "AK-K64G,\"KM64Grid\",AK,-164.75,65.25,7,2000,2023,1851,-8\n",
      "AK-TL,\"Teller\",AK,-165.9530,64.73548,7,2000,2023,1851,-8\n",
      "AK-TLG,\"TLRGrid\",AK,-165.75,64.75,7,2000,2022,1851,-8\n",
      "AK-CL,\"Council\",AK,-163.7074,64.8493,7,2000,2015,1851,-8\n",
      "AK-CLG,\"CCILGrid\",AK,-163.75,64.75,7,2000,2015,1851,-8\n",
      "AK-UTQ,\"Utqiagvik-IM1\",AK,-156.5962,71.2994,5,2000,2015,1851,-8\n",
      "AK-PRU,\"Prudhoe-IM1\",AK,-148.8189,69.8259,86,2000,2015,1851,-8\n",
      "AK-ICP,\"Icy Cape-IM1\",AK,-160.4705,69.8605,74,2000,2015,1851,-8\n",
      "AK-ANA,\"Anaktuvuk-IM1\",AK,-150.8717,69.4142,154,2000,2015,1851,-8\n",
      "AK-BRF,\"Brooks Foothills-IM1\",AK,-153.9414,69.0882,299,2000,2015,1851,-8\n",
      "SE-Abi,\"Abisko\",SE,18.78,68.35,422,2000,2024,1851,1\n",
      "CA-TVC,\"Trail Valley Creek\",NT,-133.499,68.742,73,2000,2024,1851,-7\n",
      "CA-CHA,\"CHARS\",NU,-105.0415,69.13,2,2000,2024,1851,-7\n",
      "AK-Tlk,\"Toolik Lake\",AK,-149.59429,68.62758,730,2000,2024,1851,-8\n",
      "CA-QHI,\"Qikiqtaruk-Herschel Island\",YT,-139.0762,69.5697,100,2000,2024,1851,-7\n",
      "RU-Sam,\"Samoylov Island\",RU,126.3,72.22,24,2000,2024,1851,7\n",
      "NO-SJB,\"SJ-Blv Bayelva\",NO,11.83109,78.92163,53,2000,2024,1851,1\n",
      "\n"
     ]
    }
   ],
   "source": [
    "inputroot='/project/neon_e3sm/inputdata'\n",
    "\n",
    "with open(inputroot+\"/lnd/clm2/PTCLM/NGEEArctic_sitedata.txt\",\"r\") as file:\n",
    "    content = file.read()\n",
    "    print(content)"
   ]
  },
  {
   "cell_type": "markdown",
   "id": "240c99c1-540f-479d-8395-f963c2a0a773",
   "metadata": {},
   "source": [
    "You'll see here that many of the sites we have used in Phase 3 and will be using in Phase 4 are already added to this list. PTCLM also contains a few other files for some of these sites:"
   ]
  },
  {
   "cell_type": "code",
   "execution_count": 3,
   "id": "fc3622a1-ab11-49e4-b6d2-cf9e7ee2de4e",
   "metadata": {},
   "outputs": [
    {
     "name": "stdout",
     "output_type": "stream",
     "text": [
      "site_code,soil_depth,n_layers,layer_depth,layer_sand%,layer_clay%\n",
      "AK-BEO,-999,1,-999,50.0,25.0\n",
      "AK-BEOG,-999,1,-999,50.0,25.0\n",
      "AK-K64G,-999,1,-999,50.0,25.0\n",
      "AK-TLG,-999,1,-999,50.0,25.0\n",
      "AK-CLG,-999,1,-999,50.0,25.0\n",
      "AK-UTQ,-999,1,-999,50.0,25.0\n",
      "AK-PRU,-999,1,-999,50.0,25.0\n",
      "AK-ICP,-999,1,-999,50.0,25.0\n",
      "AK-ANA,-999,1,-999,50.0,25.0\n",
      "AK-BRF,-999,1,-999,50.0,25.0\n",
      "\n"
     ]
    }
   ],
   "source": [
    "with open(inputroot+\"/lnd/clm2/PTCLM/NGEEArctic_soildata.txt\",\"r\") as file:\n",
    "    content = file.read()\n",
    "    print(content)"
   ]
  },
  {
   "cell_type": "code",
   "execution_count": 4,
   "id": "66e7c0a9-b010-4856-b99f-b190b3cbc11e",
   "metadata": {},
   "outputs": [
    {
     "name": "stdout",
     "output_type": "stream",
     "text": [
      "site_code, pft_f1, pft_c1, pft_f2, pft_c2, pft_f3, pft_c3, pft_f4, pft_c4, pft_f5, pft_c5\n",
      "AK-BEO, 100.0,12, 0.0, 0, 0.0, 0, 0.0, 0, 0.0, 0\n",
      "AK-BEOG, 100.0,12, 0.0, 0, 0.0, 0, 0.0, 0, 0.0, 0\n",
      "AK-K64G, 100.0,12, 0.0, 0, 0.0, 0, 0.0, 0, 0.0, 0\n",
      "AK-TLG, 100.0,12, 0.0, 0, 0.0, 0, 0.0, 0, 0.0, 0\n",
      "AK-CLG, 100.0,12, 0.0, 0, 0.0, 0, 0.0, 0, 0.0, 0\n",
      "AK-UTQ, 100.0,12, 0.0, 0, 0.0, 0, 0.0, 0, 0.0, 0\n",
      "AK-PRU, 100.0,12, 0.0, 0, 0.0, 0, 0.0, 0, 0.0, 0\n",
      "AK-ICP,100.0,12, 0.0, 0, 0.0, 0, 0.0, 0, 0.0, 0\n",
      "AK-ANA, 100.0,12, 0.0, 0, 0.0, 0, 0.0, 0, 0.0, 0\n",
      "AK-BRF, 100.0,12, 0.0, 0, 0.0, 0, 0.0, 0, 0.0, 0\n",
      "\n"
     ]
    }
   ],
   "source": [
    "with open(inputroot+\"/lnd/clm2/PTCLM/NGEEArctic_pftdata.txt\",\"r\") as file:\n",
    "    content = file.read()\n",
    "    print(content)"
   ]
  },
  {
   "cell_type": "markdown",
   "id": "9e54c8ce-d854-4f2a-b653-bf966310d371",
   "metadata": {},
   "source": [
    "If the site codes exist in all 3 files, it is possible to overwrite site soil and PFT data with what is provided in these files by setting different flags in the relevant OLMT script.\n",
    "\n",
    "## 2. Run the makepointdata.py script\n",
    "\n",
    "The `makepointdata.py` script in `$OLMT_ROOT` (that is, the directory where you have your copy of the OLMT repo) allows extraction of surface files from the gridded global datasets. An example use for the SE-Abi is below:\n",
    "\n",
    "`python makepointdata.py --res hcru_hcru --model elm --site SE-Abi --sitegroup NGEEArctic --ccsm_input /project/neon_e3sm/inputdata/ --surfdata_grid --mysimyr 1850`\n",
    "\n",
    "I normally run these from the command line, but you could also run from Python in a Jupyter notebook if you prefer:"
   ]
  },
  {
   "cell_type": "code",
   "execution_count": 18,
   "id": "7b59b99b-1e9a-4b7f-96d6-7b8334c9786e",
   "metadata": {},
   "outputs": [
    {
     "name": "stdout",
     "output_type": "stream",
     "text": [
      "Output: \n",
      "Creating datasets for SE-Abi using hcru_hcru resolution\n",
      "Creating domain data\n",
      "INFO: Extracted and Compiled './temp/domain.nc' FROM: '/project/neon_e3sm/inputdata/share/domains/domain.clm/domain.lnd.360x720_cruncep.100429.nc'! \n",
      "\n",
      "Creating surface data\n",
      "using PFT information from surface data\n",
      "INFO: Extracted and Compiled './temp/surfdata.nc' FROM: '/project/neon_e3sm/inputdata/lnd/clm2/surfdata_map/surfdata_360x720cru_simyr1850_c180216.nc'! \n",
      "\n",
      "Creating dynpft data\n",
      "INFO: Extracted and Compiled './temp/surfdata.pftdyn.nc' FROM: '/project/neon_e3sm/inputdata/lnd/clm2/surfdata_map/landuse.timeseries_360x720cru_hist_simyr1850-2015_c180220.nc'! \n",
      "\n",
      "\n",
      "Errors: /home/rfiorella/OLMT/makepointdata.py:69: SyntaxWarning: invalid escape sequence '\\;'\n",
      "  os.system('find ./temp/ -name \"*.nc*\" -exec rm {} \\; ')\n",
      "/home/rfiorella/OLMT/makepointdata.py:473: SyntaxWarning: invalid escape sequence '\\;'\n",
      "  os.system('find ./temp/ -name '+domainfile_tmp+' -exec rm {} \\;')\n",
      "/home/rfiorella/OLMT/makepointdata.py:763: SyntaxWarning: invalid escape sequence '\\;'\n",
      "  os.system('find ./temp/ -name \"'+surffile_tmp+'\" -exec rm {} \\;')\n",
      "/home/rfiorella/OLMT/makepointdata.py:1000: SyntaxWarning: invalid escape sequence '\\;'\n",
      "  os.system('find ./temp/ -name \"'+pftdyn_tmp+'\" -exec rm {} \\;')\n",
      "\n"
     ]
    }
   ],
   "source": [
    "olmt_root = '/home/rfiorella/OLMT'\n",
    "\n",
    "import subprocess\n",
    "# note: arguments and values here need to be separate entries in the list following the script name.\n",
    "result = subprocess.run([\"python\", olmt_root+\"/makepointdata.py\", \n",
    "                         \"--res\", \"hcru_hcru\", \n",
    "                         \"--model\", \"elm\", \n",
    "                         \"--site\", \"SE-Abi\",\n",
    "                         \"--sitegroup\", \"NGEEArctic\",\n",
    "                         \"--ccsm_input\", \"/project/neon_e3sm/inputdata/\", \n",
    "                         \"--surfdata_grid\",\n",
    "                         \"--mysimyr\", \"1850\"],\n",
    "                         capture_output=True, text = True)\n",
    "\n",
    "print(\"Output:\", result.stdout)\n",
    "print(\"Errors:\", result.stderr)\n",
    "\n",
    "# The errors that print about \"invalid escape sequences\" don't appear to be an issue, and can be ignored for now.\n"
   ]
  },
  {
   "cell_type": "markdown",
   "id": "ef69a6cf-72f9-4f59-a0d2-8329ccd4d25a",
   "metadata": {},
   "source": [
    "## 3. Moving the new site files to our E3SM data respository\n",
    "\n",
    "These scripts will generate three files, if successful, in `$OLMT_ROOT/temp.` This would be fine if we were performing a one-off simulation of a site, but if it's a site we'll be returning to it's best to move the file to the common E3SM data repository at `$INPUTDATA.`\n",
    "\n",
    "The file names generated – domain.nc, surfdata.nc, surfdata.pftdyn.nc - are not particularly descriptive, so we should add information about: a) what site it is, b) resolution of the file it was generated from, and c) the creation date (maybe not necessary, but there's a long tradition of this in the filenames for CESM/E3SM).\n",
    "\n",
    "Continuing the example of Abisko:\n",
    "\n",
    "domain.nc goes into `$INPUTDATA/share/domains/domain.clm`: <br>\n",
    "`mv temp/domain.nc /project/neon_e3sm/inputdata/share/domains/domain.clm/domain.lnd.1x1pt_Abisko-GRID.nc` <br>\n",
    "1x1pt indicates it is a single point, -GRID indicates it uses data from the gridded E3SM datasets (e.g., the `--surfdata_grid` argument in makepointdata.py)\n",
    "\n",
    "surfdata.nc and surfdata.pftdyn.nc go into `$INPUTDATA/lnd/clm2/surfdata_map/`: <br>\n",
    "`mv temp/surfdata.nc /project/neon_e3sm/inputdata/lnd/clm2/surfdata_map/surfdata_1x1pt_Abisko-GRID_simyr1850_c360x720_c250306.nc` <br>\n",
    "`mv temp/surfdata.pftdyn.nc /project/neon_e3sm/inputdata/lnd/clm2/surfdata_map/landuse.timeseries_1x1pt_Abisko-GRID_simyr1850-2015_c250306.nc` <br>\n",
    "Where simyr1850 indicates it starts from a surface dataset meant to represent 1850, c360x720 is the resolution of the dataset used to create the surface files (e.g., 0.5°), and c250306 is the date I created the files."
   ]
  },
  {
   "cell_type": "markdown",
   "id": "e6692c58-dd6b-450a-9ba2-8495f8d1e1dc",
   "metadata": {},
   "source": [
    "## 4. Finally, please check the permissions of the files you added\n",
    "\n",
    "The permissions model on the servers can be a bit annoying! If you create new files they may not be accessible to other members of NGEE Arctic. To ensure they are, a quick check is:\n",
    "\n",
    "`cd /project/neon_e3sm/inputdata` <br>\n",
    "`find . -group $USER -exec chgrp ngeearctic {} +` <br>\n",
    "`find . -user $USER -exec chmod g=u {} +` <br>\n",
    "\n",
    "These commands: a) move you to the root directory of the E3SM datasets, b) find any files where the UNIX group is equal to your moinker, and changes them to ngeearctic, c) sets the ngeearctic group permissions to be the same as the user that created them. \n",
    "\n",
    "**FINALLY, because this is a shared space, please be exceedingly careful with `rm` in this directory!**"
   ]
  },
  {
   "cell_type": "code",
   "execution_count": null,
   "id": "cf7eab9f-32fc-47ef-bb2c-bc1570a48f2c",
   "metadata": {},
   "outputs": [],
   "source": []
  },
  {
   "cell_type": "code",
   "execution_count": null,
   "id": "1aa541ac-abba-45b5-8ddb-19342479d455",
   "metadata": {},
   "outputs": [],
   "source": []
  }
 ],
 "metadata": {
  "kernelspec": {
   "display_name": "Python 3 (ipykernel)",
   "language": "python",
   "name": "python3"
  },
  "language_info": {
   "codemirror_mode": {
    "name": "ipython",
    "version": 3
   },
   "file_extension": ".py",
   "mimetype": "text/x-python",
   "name": "python",
   "nbconvert_exporter": "python",
   "pygments_lexer": "ipython3",
   "version": "3.12.7"
  }
 },
 "nbformat": 4,
 "nbformat_minor": 5
}
